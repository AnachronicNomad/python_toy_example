{
 "cells": [
  {
   "cell_type": "markdown",
   "metadata": {},
   "source": [
    "# Thinking about operations on (un-) structured grids\n",
    "\n",
    "First, consider the 2D case, then a 3D case. \n",
    "\n",
    "Make sure to maintain concise and explicit detail about what information is going where, in addition to enumerating edge cases which may exist and may therefore affect the code."
   ]
  },
  {
   "cell_type": "markdown",
   "metadata": {},
   "source": [
    "## 2D Grid\n",
    "\n"
   ]
  },
  {
   "cell_type": "markdown",
   "metadata": {},
   "source": [
    "Say I have a numbered grid of nodes like this.\n",
    "\n",
    "<img src=\"https://docs.google.com/drawings/d/e/2PACX-1vQVl4FkGXiTIf8ZUDc8rCrsPsGRLmO9ivz64dcGzvGnugQClU1tHbSJQPk6_69DuADriiUJncP1gY2Z/pub?w=480&amp;h=360\">"
   ]
  },
  {
   "cell_type": "markdown",
   "metadata": {},
   "source": [
    "And there is an arbitrary range of nodes which are operated on by a process, like so\n",
    "\n",
    "<img src=\"https://docs.google.com/drawings/d/e/2PACX-1vQwew7vfSSgwjsxv7LUAL-bZRjN1LIUuWfz62QbegZWpJDHYGRa23wRfHE63IaTGQ1u4RhDQOWBx4-R/pub?w=480&amp;h=360\">"
   ]
  },
  {
   "cell_type": "markdown",
   "metadata": {},
   "source": [
    "and the problem requires that information is shared and computed for each node, as outlined by the heavy-outlined black box above. "
   ]
  },
  {
   "cell_type": "markdown",
   "metadata": {},
   "source": [
    "The information also needs to be shared \"All-to-All\" within a group in the y-dimension. \n",
    "\n",
    "Some other constraints:\n",
    "* All the processors must be running the same code, simultaneously.\n",
    "* Want to minimize synchronizations."
   ]
  },
  {
   "cell_type": "markdown",
   "metadata": {},
   "source": [
    "### Some other edge cases\n",
    "\n",
    "Consider the case where every two nodes in the above example are controlled by one process. Visually, \n",
    "\n",
    "<img src=\"https://docs.google.com/drawings/d/e/2PACX-1vS1kdfkmJDHz9fSUDWNKBDa6QDabFmii6NrAeIR0WolSwA14mKjEkHBJ-c_hFPI4bBuT_x0K7liAO8W/pub?w=480&amp;h=360\">"
   ]
  },
  {
   "cell_type": "markdown",
   "metadata": {},
   "source": [
    "Here, we can see that although these are sequentially ordered (as far as each process is concerned for the first group); if the COMM_WORLD for all processes is used, all processes running the same code may not be sending/receiving relevant information."
   ]
  },
  {
   "cell_type": "code",
   "execution_count": null,
   "metadata": {},
   "outputs": [],
   "source": []
  }
 ],
 "metadata": {
  "kernelspec": {
   "display_name": "Python 3",
   "language": "python",
   "name": "python3"
  },
  "language_info": {
   "codemirror_mode": {
    "name": "ipython",
    "version": 3
   },
   "file_extension": ".py",
   "mimetype": "text/x-python",
   "name": "python",
   "nbconvert_exporter": "python",
   "pygments_lexer": "ipython3",
   "version": "3.7.3"
  }
 },
 "nbformat": 4,
 "nbformat_minor": 2
}
